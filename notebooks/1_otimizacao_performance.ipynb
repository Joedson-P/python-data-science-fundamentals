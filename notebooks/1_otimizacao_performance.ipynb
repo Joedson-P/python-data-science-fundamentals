{
 "cells": [
  {
   "cell_type": "code",
   "execution_count": null,
   "id": "1b57bc62",
   "metadata": {
    "vscode": {
     "languageId": "plaintext"
    }
   },
   "outputs": [],
   "source": [
    "import pandas as pd\n",
    "import timeit\n",
    "\n",
    "#Carregando os dados\n",
    "df = pd.read_csv('C:\\projetos-ds\\python-data-science-fundamentals\\data\\df_produtos_500k.csv')\n",
    "print(f'Dados carregados: {len(df)} linhas.')\n",
    "\n",
    "# --- MÉTODO 1: LOOP FOR TRADICIONAL ---\n",
    "def calcular_faturamento_loop(df):\n",
    "    faturamento = []\n",
    "    # Utiliza o zip para iterar sobre as colunas com performance aceitável\n",
    "    for preco, qtd in zip(df['preco_unitario'], df['quantidade_vendida']):\n",
    "        faturamento.append(preco * qtd)\n",
    "    return faturamento\n",
    "\n",
    "# Medição do tempo\n",
    "tempo_loop = timeit.timeit(\n",
    "    lambda: calcular_faturamento_loop(df),\n",
    "    number=10 # Repetimos 10 vezes para uma média mais estável\n",
    ")\n",
    "tempo_medio_loop = tempo_loop / 10\n",
    "print(f\"\\nTempo médio (Loop FOR): {tempo_medio_loop:.5f} segundos\")\n",
    "\n",
    "# --- MÉTODO 2: LIST COMPREHENSION (SUA TAREFA) ---\n",
    "def calcular_faturamento_comprehension(df):\n",
    "    # A List Comprehension deve substituir o loop for acima em uma única linha\n",
    "    faturamento = [preco * qtd for preco, qtd in zip(df['preco_unitario'], df['quantidade_vendida'])]\n",
    "    return faturamento\n",
    "\n",
    "# Medição do tempo\n",
    "tempo_comprehension = timeit.timeit(\n",
    "    lambda: calcular_faturamento_comprehension(df),\n",
    "    number=10\n",
    ")\n",
    "tempo_medio_comprehension = tempo_comprehension / 10\n",
    "print(f\"Tempo médio (List Comprehension): {tempo_medio_comprehension:.5f} segundos\")"
   ]
  }
 ],
 "metadata": {
  "language_info": {
   "name": "python"
  }
 },
 "nbformat": 4,
 "nbformat_minor": 5
}
