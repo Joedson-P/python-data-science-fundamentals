{
 "cells": [
  {
   "cell_type": "markdown",
   "id": "bb073e20",
   "metadata": {},
   "source": [
    "# Atividade 1: Otimização Pythonic e Benchmarking de Performance\n",
    "\n",
    "## Objetivo\n",
    "Este notebook demonstra a importância da otimização de código em Python para Ciência de Dados.\n",
    "Faremos um **benchmarking** de performance, comparando a execução de tarefas comuns (cálculo de faturamento) usando:\n",
    "\n",
    "1.  **Loop FOR Tradicional:** Abordagem procedural.\n",
    "2.  **List Comprehension:** Abordagem Pythonic e otimizada.\n",
    "3.  **Funções Lambda:** Uso eficiente em conjunto com métodos de iteração (como `map`).\n",
    "\n",
    "O teste será realizado em um volume de **500.000 linhas** de dados simulados."
   ]
  },
  {
   "cell_type": "code",
   "execution_count": 1,
   "id": "66bfe2f7",
   "metadata": {},
   "outputs": [
    {
     "name": "stdout",
     "output_type": "stream",
     "text": [
      "Dados carregados: 500000 linhas.\n",
      "\n",
      "Primeiras 5 linhas do dataset:\n"
     ]
    },
    {
     "data": {
      "text/html": [
       "<div>\n",
       "<style scoped>\n",
       "    .dataframe tbody tr th:only-of-type {\n",
       "        vertical-align: middle;\n",
       "    }\n",
       "\n",
       "    .dataframe tbody tr th {\n",
       "        vertical-align: top;\n",
       "    }\n",
       "\n",
       "    .dataframe thead th {\n",
       "        text-align: right;\n",
       "    }\n",
       "</style>\n",
       "<table border=\"1\" class=\"dataframe\">\n",
       "  <thead>\n",
       "    <tr style=\"text-align: right;\">\n",
       "      <th></th>\n",
       "      <th>produto</th>\n",
       "      <th>preco_unitario</th>\n",
       "      <th>quantidade_vendida</th>\n",
       "      <th>categoria</th>\n",
       "    </tr>\n",
       "  </thead>\n",
       "  <tbody>\n",
       "    <tr>\n",
       "      <th>0</th>\n",
       "      <td>Produto_297</td>\n",
       "      <td>311.43</td>\n",
       "      <td>1467</td>\n",
       "      <td>Livros</td>\n",
       "    </tr>\n",
       "    <tr>\n",
       "      <th>1</th>\n",
       "      <td>Produto_509</td>\n",
       "      <td>413.07</td>\n",
       "      <td>644</td>\n",
       "      <td>Livros</td>\n",
       "    </tr>\n",
       "    <tr>\n",
       "      <th>2</th>\n",
       "      <td>Produto_587</td>\n",
       "      <td>46.87</td>\n",
       "      <td>1740</td>\n",
       "      <td>Alimentos</td>\n",
       "    </tr>\n",
       "    <tr>\n",
       "      <th>3</th>\n",
       "      <td>Produto_546</td>\n",
       "      <td>45.28</td>\n",
       "      <td>135</td>\n",
       "      <td>Roupas</td>\n",
       "    </tr>\n",
       "    <tr>\n",
       "      <th>4</th>\n",
       "      <td>Produto_693</td>\n",
       "      <td>294.53</td>\n",
       "      <td>1349</td>\n",
       "      <td>Eletronicos</td>\n",
       "    </tr>\n",
       "  </tbody>\n",
       "</table>\n",
       "</div>"
      ],
      "text/plain": [
       "       produto  preco_unitario  quantidade_vendida    categoria\n",
       "0  Produto_297          311.43                1467       Livros\n",
       "1  Produto_509          413.07                 644       Livros\n",
       "2  Produto_587           46.87                1740    Alimentos\n",
       "3  Produto_546           45.28                 135       Roupas\n",
       "4  Produto_693          294.53                1349  Eletronicos"
      ]
     },
     "metadata": {},
     "output_type": "display_data"
    }
   ],
   "source": [
    "import pandas as pd\n",
    "import timeit\n",
    "import numpy as np\n",
    "\n",
    "df = pd.read_csv('../data/df_produtos_500k.csv') \n",
    "\n",
    "print(f\"Dados carregados: {len(df)} linhas.\")\n",
    "print(\"\\nPrimeiras 5 linhas do dataset:\")\n",
    "display(df.head())"
   ]
  },
  {
   "cell_type": "code",
   "execution_count": 2,
   "id": "1b57bc62",
   "metadata": {},
   "outputs": [
    {
     "name": "stdout",
     "output_type": "stream",
     "text": [
      "\n",
      "Tempo médio (Loop FOR): 0.09367 segundos\n"
     ]
    }
   ],
   "source": [
    "# --- MÉTODO 1: LOOP FOR TRADICIONAL ---\n",
    "def calcular_faturamento_loop(df):\n",
    "    faturamento = []\n",
    "    # Utiliza o zip para iterar sobre as colunas com performance aceitável\n",
    "    for preco, qtd in zip(df['preco_unitario'], df['quantidade_vendida']):\n",
    "        faturamento.append(preco * qtd)\n",
    "    return faturamento\n",
    "\n",
    "# Medição do tempo\n",
    "tempo_loop = timeit.timeit(\n",
    "    lambda: calcular_faturamento_loop(df),\n",
    "    number=10 # Repetimos 10 vezes para uma média mais estável\n",
    ")\n",
    "tempo_medio_loop = tempo_loop / 10\n",
    "print(f\"\\nTempo médio (Loop FOR): {tempo_medio_loop:.5f} segundos\")"
   ]
  },
  {
   "cell_type": "code",
   "execution_count": null,
   "id": "11134d51",
   "metadata": {},
   "outputs": [
    {
     "name": "stdout",
     "output_type": "stream",
     "text": [
      "Tempo médio (List Comprehension): 0.09036 segundos\n"
     ]
    }
   ],
   "source": [
    "# --- MÉTODO 2: LIST COMPREHENSION ---\n",
    "def calcular_faturamento_comprehension(df):\n",
    "    # A List Comprehension deve substituir o loop FOR acima em uma única linha\n",
    "    faturamento = [preco * qtd for preco, qtd in zip(df['preco_unitario'], df['quantidade_vendida'])]\n",
    "    return faturamento\n",
    "\n",
    "# Medição do tempo\n",
    "tempo_comprehension = timeit.timeit(\n",
    "    lambda: calcular_faturamento_comprehension(df),\n",
    "    number=10\n",
    ")\n",
    "tempo_medio_comprehension = tempo_comprehension / 10\n",
    "print(f\"Tempo médio (List Comprehension): {tempo_medio_comprehension:.5f} segundos\")"
   ]
  },
  {
   "cell_type": "code",
   "execution_count": 6,
   "id": "e49c88b8",
   "metadata": {},
   "outputs": [
    {
     "name": "stdout",
     "output_type": "stream",
     "text": [
      "Tempo médio (map_lambda): 0.10778 segundos\n"
     ]
    }
   ],
   "source": [
    "# --- MÉTODO 3: Otimização com map() e Lambda ---\n",
    "def calcular_faturamento_map_lambda(df):\n",
    "    # O map() aplica a função lambda a cada par de elementos (preco, qtd)\n",
    "    # O list() é necessário para converter o objeto map (que é lazy) em uma lista para comparação\n",
    "    faturamento = list(map(\n",
    "        lambda x: x[0] * x[1], \n",
    "        zip(df['preco_unitario'], df['quantidade_vendida'])\n",
    "    ))\n",
    "    return faturamento\n",
    "\n",
    "# Medição do tempo\n",
    "tempo_map_lambda = timeit.timeit(\n",
    "    lambda:calcular_faturamento_map_lambda(df),\n",
    "    number = 10\n",
    ")\n",
    "\n",
    "tempo_medio_map_lambda = tempo_map_lambda / 10\n",
    "print(f\"Tempo médio (map_lambda): {tempo_medio_map_lambda:.5f} segundos\")"
   ]
  },
  {
   "cell_type": "code",
   "execution_count": 8,
   "id": "ac7715c1",
   "metadata": {},
   "outputs": [
    {
     "name": "stdout",
     "output_type": "stream",
     "text": [
      "\n",
      "Diferenca de performance do List Comprehension x Loop For: 3.53%.\n",
      "Diferenca de performance do Map+Lambda x Loop For: -15.07%.\n",
      "Diferenca de performance do List Comprehension x Map+Lambda: 16.17%.\n"
     ]
    }
   ],
   "source": [
    "diferenca_percentual_comprehension = ((tempo_medio_loop - tempo_medio_comprehension) / tempo_medio_loop) * 100\n",
    "diferenca_vs_loop_map = ((tempo_medio_loop - tempo_medio_map_lambda) / tempo_medio_loop) * 100\n",
    "diferenca_comprehension_vs_map = ((tempo_medio_map_lambda - tempo_medio_comprehension) / tempo_medio_map_lambda) * 100\n",
    "\n",
    "\n",
    "print(f\"\\nDiferenca de performance do List Comprehension x Loop For: {diferenca_percentual_comprehension:.2f}%.\")\n",
    "print(f\"Diferenca de performance do Map+Lambda x Loop For: {diferenca_vs_loop_map:.2f}%.\")\n",
    "print(f\"Diferenca de performance do List Comprehension x Map+Lambda: {diferenca_comprehension_vs_map:.2f}%.\")\n"
   ]
  },
  {
   "cell_type": "markdown",
   "id": "491dcbea",
   "metadata": {},
   "source": [
    "A List Comprehension apresentou uma performance superior ao Loop For, ainda que modesta. Já no caso do Map/Lambda, a performance foi inferior tanto em relação ao Loop FOR, quanto em relação à List Comprehension. Apesar do método Map/Lambda ser um \"pythonic\", para este exemplo de operação simples, as repetidas chamadas da função lambda e a criação do objeto _lazy_ do `map` acabaram sobrecarregando o método.\n"
   ]
  }
 ],
 "metadata": {
  "kernelspec": {
   "display_name": "venv",
   "language": "python",
   "name": "python3"
  },
  "language_info": {
   "codemirror_mode": {
    "name": "ipython",
    "version": 3
   },
   "file_extension": ".py",
   "mimetype": "text/x-python",
   "name": "python",
   "nbconvert_exporter": "python",
   "pygments_lexer": "ipython3",
   "version": "3.12.10"
  }
 },
 "nbformat": 4,
 "nbformat_minor": 5
}
